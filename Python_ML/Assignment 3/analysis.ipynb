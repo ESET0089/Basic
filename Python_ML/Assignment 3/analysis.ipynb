{
 "cells": [
  {
   "cell_type": "markdown",
   "id": "3b8cbcee",
   "metadata": {},
   "source": [
    "# Functions\n",
    "### Function Definition"
   ]
  },
  {
   "cell_type": "code",
   "execution_count": 5,
   "id": "3462524b",
   "metadata": {},
   "outputs": [],
   "source": [
    "def student_info(name, age=18):\n",
    "    print(name,age)"
   ]
  },
  {
   "cell_type": "markdown",
   "id": "1bbc932c",
   "metadata": {},
   "source": [
    "### Function Calling"
   ]
  },
  {
   "cell_type": "code",
   "execution_count": 6,
   "id": "fd564bb6",
   "metadata": {},
   "outputs": [
    {
     "name": "stdout",
     "output_type": "stream",
     "text": [
      "John 18\n",
      "Alice 98\n"
     ]
    }
   ],
   "source": [
    "student_info(\"John\")\n",
    "student_info(\"Alice\",98)"
   ]
  },
  {
   "cell_type": "markdown",
   "id": "143d7972",
   "metadata": {},
   "source": [
    "# Numpy\n",
    "### Installing Numpy "
   ]
  },
  {
   "cell_type": "code",
   "execution_count": 7,
   "id": "a67d34b2",
   "metadata": {},
   "outputs": [
    {
     "name": "stdout",
     "output_type": "stream",
     "text": [
      "Requirement already satisfied: numpy in c:\\users\\user\\appdata\\local\\programs\\python\\python313\\lib\\site-packages (2.3.2)\n"
     ]
    }
   ],
   "source": [
    "!pip install numpy"
   ]
  },
  {
   "cell_type": "markdown",
   "id": "e160a780",
   "metadata": {},
   "source": []
  },
  {
   "cell_type": "markdown",
   "id": "cf754091",
   "metadata": {},
   "source": [
    "### Importing Numpy"
   ]
  },
  {
   "cell_type": "code",
   "execution_count": 8,
   "id": "3df3f36d",
   "metadata": {},
   "outputs": [],
   "source": [
    "import numpy as np"
   ]
  },
  {
   "cell_type": "markdown",
   "id": "85bc697e",
   "metadata": {},
   "source": [
    "### Numpy array"
   ]
  },
  {
   "cell_type": "code",
   "execution_count": 17,
   "id": "2d6630cc",
   "metadata": {},
   "outputs": [
    {
     "name": "stdout",
     "output_type": "stream",
     "text": [
      "[1 2 3] \n",
      "\n",
      "[[1 2 3]\n",
      " [4 5 6]] \n",
      "\n",
      "[[[1 2 3]\n",
      "  [4 5 6]]\n",
      "\n",
      " [[1 2 3]\n",
      "  [4 5 6]]] \n",
      "\n"
     ]
    }
   ],
   "source": [
    "x = np.array([1,2,3])                       #1D array\n",
    "y = np.array([[1,2,3],[4,5,6]])                #2D array\n",
    "z = np.array([[[1, 2, 3], [4, 5, 6]], [[1, 2, 3], [4, 5, 6]]])        #3D array\n",
    "print(x,\"\\n\")\n",
    "print(y,\"\\n\")\n",
    "print(z,\"\\n\")"
   ]
  },
  {
   "cell_type": "markdown",
   "id": "9be3791f",
   "metadata": {},
   "source": [
    "# Pandas"
   ]
  },
  {
   "cell_type": "code",
   "execution_count": 18,
   "id": "9ecb4020",
   "metadata": {},
   "outputs": [
    {
     "name": "stdout",
     "output_type": "stream",
     "text": [
      "Requirement already satisfied: pandas in c:\\users\\user\\appdata\\local\\programs\\python\\python313\\lib\\site-packages (2.3.2)\n",
      "Requirement already satisfied: numpy>=1.26.0 in c:\\users\\user\\appdata\\local\\programs\\python\\python313\\lib\\site-packages (from pandas) (2.3.2)\n",
      "Requirement already satisfied: python-dateutil>=2.8.2 in c:\\users\\user\\appdata\\local\\programs\\python\\python313\\lib\\site-packages (from pandas) (2.9.0.post0)\n",
      "Requirement already satisfied: pytz>=2020.1 in c:\\users\\user\\appdata\\local\\programs\\python\\python313\\lib\\site-packages (from pandas) (2025.2)\n",
      "Requirement already satisfied: tzdata>=2022.7 in c:\\users\\user\\appdata\\local\\programs\\python\\python313\\lib\\site-packages (from pandas) (2025.2)\n",
      "Requirement already satisfied: six>=1.5 in c:\\users\\user\\appdata\\local\\programs\\python\\python313\\lib\\site-packages (from python-dateutil>=2.8.2->pandas) (1.17.0)\n"
     ]
    }
   ],
   "source": [
    "!pip install pandas"
   ]
  },
  {
   "cell_type": "code",
   "execution_count": 19,
   "id": "283aab15",
   "metadata": {},
   "outputs": [],
   "source": [
    "import pandas as pd"
   ]
  },
  {
   "cell_type": "markdown",
   "id": "4512c164",
   "metadata": {},
   "source": [
    "# Series and Dataframe\n",
    "#### Pandas can be used to convert a list to a Series and a 2d array into a Dataframe"
   ]
  },
  {
   "cell_type": "code",
   "execution_count": 20,
   "id": "a6723c45",
   "metadata": {},
   "outputs": [
    {
     "name": "stdout",
     "output_type": "stream",
     "text": [
      "Type of Series:<class 'pandas.core.series.Series'>\n"
     ]
    }
   ],
   "source": [
    "s = pd.Series([10,20,30,40], name = \"myNumbers\")\n",
    "print(f\"Type of Series:{type(s)}\")"
   ]
  },
  {
   "cell_type": "code",
   "execution_count": 27,
   "id": "b6aef741",
   "metadata": {},
   "outputs": [
    {
     "name": "stdout",
     "output_type": "stream",
     "text": [
      "<class 'dict'>\n",
      "{'Name': ['Alice', 'Bob', 'David', 'Nina'], 'Age': [25, 30, 35, 25], 'City': ['NYC', 'London', 'Paris', 'NYC'], 'Salary': [70000, 58000, 95000, 75000]}\n"
     ]
    }
   ],
   "source": [
    "data = {\n",
    "    'Name':['Alice','Bob','David','Nina'],\n",
    "    'Age':[25,30,35,25],\n",
    "    'City':['NYC','London','Paris','NYC'],\n",
    "    'Salary':[70000,58000,95000,75000]\n",
    "}\n",
    "\n",
    "print(type(data))\n",
    "print(data)\n"
   ]
  },
  {
   "cell_type": "code",
   "execution_count": 26,
   "id": "432da1de",
   "metadata": {},
   "outputs": [
    {
     "data": {
      "text/html": [
       "<div>\n",
       "<style scoped>\n",
       "    .dataframe tbody tr th:only-of-type {\n",
       "        vertical-align: middle;\n",
       "    }\n",
       "\n",
       "    .dataframe tbody tr th {\n",
       "        vertical-align: top;\n",
       "    }\n",
       "\n",
       "    .dataframe thead th {\n",
       "        text-align: right;\n",
       "    }\n",
       "</style>\n",
       "<table border=\"1\" class=\"dataframe\">\n",
       "  <thead>\n",
       "    <tr style=\"text-align: right;\">\n",
       "      <th></th>\n",
       "      <th>Name</th>\n",
       "      <th>Age</th>\n",
       "      <th>City</th>\n",
       "      <th>Salary</th>\n",
       "    </tr>\n",
       "  </thead>\n",
       "  <tbody>\n",
       "    <tr>\n",
       "      <th>0</th>\n",
       "      <td>Alice</td>\n",
       "      <td>25</td>\n",
       "      <td>NYC</td>\n",
       "      <td>70000</td>\n",
       "    </tr>\n",
       "    <tr>\n",
       "      <th>1</th>\n",
       "      <td>Bob</td>\n",
       "      <td>30</td>\n",
       "      <td>London</td>\n",
       "      <td>58000</td>\n",
       "    </tr>\n",
       "    <tr>\n",
       "      <th>2</th>\n",
       "      <td>David</td>\n",
       "      <td>35</td>\n",
       "      <td>Paris</td>\n",
       "      <td>95000</td>\n",
       "    </tr>\n",
       "    <tr>\n",
       "      <th>3</th>\n",
       "      <td>Nina</td>\n",
       "      <td>25</td>\n",
       "      <td>NYC</td>\n",
       "      <td>75000</td>\n",
       "    </tr>\n",
       "  </tbody>\n",
       "</table>\n",
       "</div>"
      ],
      "text/plain": [
       "    Name  Age    City  Salary\n",
       "0  Alice   25     NYC   70000\n",
       "1    Bob   30  London   58000\n",
       "2  David   35   Paris   95000\n",
       "3   Nina   25     NYC   75000"
      ]
     },
     "execution_count": 26,
     "metadata": {},
     "output_type": "execute_result"
    }
   ],
   "source": [
    "df = pd.DataFrame(data)\n",
    "df.head()"
   ]
  },
  {
   "cell_type": "markdown",
   "id": "19d396bf",
   "metadata": {},
   "source": [
    "### Read CSV"
   ]
  },
  {
   "cell_type": "code",
   "execution_count": 30,
   "id": "3d267fae",
   "metadata": {},
   "outputs": [],
   "source": [
    "df = pd.read_csv('hearing-well-being.csv')"
   ]
  },
  {
   "cell_type": "code",
   "execution_count": 31,
   "id": "53d8aca5",
   "metadata": {},
   "outputs": [
    {
     "data": {
      "text/html": [
       "<div>\n",
       "<style scoped>\n",
       "    .dataframe tbody tr th:only-of-type {\n",
       "        vertical-align: middle;\n",
       "    }\n",
       "\n",
       "    .dataframe tbody tr th {\n",
       "        vertical-align: top;\n",
       "    }\n",
       "\n",
       "    .dataframe thead th {\n",
       "        text-align: right;\n",
       "    }\n",
       "</style>\n",
       "<table border=\"1\" class=\"dataframe\">\n",
       "  <thead>\n",
       "    <tr style=\"text-align: right;\">\n",
       "      <th></th>\n",
       "      <th>Perceived_Hearing_Meaning</th>\n",
       "      <th>Hearing_FOMO</th>\n",
       "      <th>Hearing_Test_Barrier</th>\n",
       "      <th>Missed_Important_Sounds</th>\n",
       "      <th>Left_Out_Due_To_Hearing</th>\n",
       "      <th>Daily_Headphone_Use</th>\n",
       "      <th>Belief_Early_Hearing_Care</th>\n",
       "      <th>Last_Hearing_Test_Method</th>\n",
       "      <th>Interest_in_Hearing_App</th>\n",
       "      <th>Desired_App_Features</th>\n",
       "      <th>Awareness_on_hearing_and_Willingness_to_invest</th>\n",
       "      <th>Paid_App_Test_Interest</th>\n",
       "      <th>Age_group</th>\n",
       "      <th>Ear_Discomfort_After_Use</th>\n",
       "    </tr>\n",
       "  </thead>\n",
       "  <tbody>\n",
       "    <tr>\n",
       "      <th>0</th>\n",
       "      <td>Staying independent and alert, Enjoying music,...</td>\n",
       "      <td>Sometimes</td>\n",
       "      <td>Cost</td>\n",
       "      <td>Yes, in family conversations</td>\n",
       "      <td>Yes, often</td>\n",
       "      <td>My parent(s)</td>\n",
       "      <td>5</td>\n",
       "      <td>Self - application, Loved one, AI Support</td>\n",
       "      <td>Yes</td>\n",
       "      <td>Privacy, Soft guidance, Visuals, Report sharin...</td>\n",
       "      <td>Yes</td>\n",
       "      <td>Maybe, if it offers good value</td>\n",
       "      <td>18 - 24</td>\n",
       "      <td>No</td>\n",
       "    </tr>\n",
       "    <tr>\n",
       "      <th>1</th>\n",
       "      <td>Staying independent and alert, Staying connect...</td>\n",
       "      <td>Rarely</td>\n",
       "      <td>Never felt the need</td>\n",
       "      <td>Yes, in public spaces (trains, shops, announce...</td>\n",
       "      <td>Only in noisy places</td>\n",
       "      <td>My child/children</td>\n",
       "      <td>5</td>\n",
       "      <td>Self - application</td>\n",
       "      <td>Yes</td>\n",
       "      <td>Privacy</td>\n",
       "      <td>Yes</td>\n",
       "      <td>No, I prefer getting tested at a hospital</td>\n",
       "      <td>18 - 24</td>\n",
       "      <td>Yes</td>\n",
       "    </tr>\n",
       "    <tr>\n",
       "      <th>2</th>\n",
       "      <td>Staying independent and alert, I havenâ€™t tho...</td>\n",
       "      <td>Rarely</td>\n",
       "      <td>Shame</td>\n",
       "      <td>Yes, during important work or school meetings</td>\n",
       "      <td>Sometimes</td>\n",
       "      <td>My parent(s)</td>\n",
       "      <td>5</td>\n",
       "      <td>Self - application</td>\n",
       "      <td>Maybe</td>\n",
       "      <td>Soft guidance</td>\n",
       "      <td>No</td>\n",
       "      <td>Yes, definitely</td>\n",
       "      <td>18 - 24</td>\n",
       "      <td>Maybe</td>\n",
       "    </tr>\n",
       "    <tr>\n",
       "      <th>3</th>\n",
       "      <td>Staying independent and alert</td>\n",
       "      <td>Yes often</td>\n",
       "      <td>Lack of awareness</td>\n",
       "      <td>Yes, during important work or school meetings</td>\n",
       "      <td>Sometimes</td>\n",
       "      <td>1-2 hours</td>\n",
       "      <td>4</td>\n",
       "      <td>I've never taken a hearing test</td>\n",
       "      <td>Yes, that would be helpful</td>\n",
       "      <td>Game-based interaction</td>\n",
       "      <td>Yes</td>\n",
       "      <td>Yes, definitely</td>\n",
       "      <td>18 - 24</td>\n",
       "      <td>Occasionally</td>\n",
       "    </tr>\n",
       "    <tr>\n",
       "      <th>4</th>\n",
       "      <td>Staying independent and alert</td>\n",
       "      <td>Never</td>\n",
       "      <td>Lack of awareness</td>\n",
       "      <td>No, I usually hear things well</td>\n",
       "      <td>Only in noisy places</td>\n",
       "      <td>Less than 1 hour</td>\n",
       "      <td>5</td>\n",
       "      <td>I've never taken a hearing test</td>\n",
       "      <td>No, I don't think it's necessary</td>\n",
       "      <td>Quick tests, Game-based interaction, Detailed ...</td>\n",
       "      <td>No</td>\n",
       "      <td>No, I prefer getting tested at a hospital</td>\n",
       "      <td>25 - 34</td>\n",
       "      <td>No</td>\n",
       "    </tr>\n",
       "  </tbody>\n",
       "</table>\n",
       "</div>"
      ],
      "text/plain": [
       "                           Perceived_Hearing_Meaning Hearing_FOMO  \\\n",
       "0  Staying independent and alert, Enjoying music,...    Sometimes   \n",
       "1  Staying independent and alert, Staying connect...       Rarely   \n",
       "2  Staying independent and alert, I havenâ€™t tho...       Rarely   \n",
       "3                      Staying independent and alert    Yes often   \n",
       "4                      Staying independent and alert        Never   \n",
       "\n",
       "  Hearing_Test_Barrier                            Missed_Important_Sounds  \\\n",
       "0                 Cost                       Yes, in family conversations   \n",
       "1  Never felt the need  Yes, in public spaces (trains, shops, announce...   \n",
       "2                Shame      Yes, during important work or school meetings   \n",
       "3    Lack of awareness      Yes, during important work or school meetings   \n",
       "4    Lack of awareness                     No, I usually hear things well   \n",
       "\n",
       "  Left_Out_Due_To_Hearing Daily_Headphone_Use  Belief_Early_Hearing_Care  \\\n",
       "0              Yes, often        My parent(s)                          5   \n",
       "1    Only in noisy places   My child/children                          5   \n",
       "2               Sometimes        My parent(s)                          5   \n",
       "3               Sometimes           1-2 hours                          4   \n",
       "4    Only in noisy places    Less than 1 hour                          5   \n",
       "\n",
       "                    Last_Hearing_Test_Method  \\\n",
       "0  Self - application, Loved one, AI Support   \n",
       "1                         Self - application   \n",
       "2                         Self - application   \n",
       "3            I've never taken a hearing test   \n",
       "4            I've never taken a hearing test   \n",
       "\n",
       "            Interest_in_Hearing_App  \\\n",
       "0                               Yes   \n",
       "1                               Yes   \n",
       "2                             Maybe   \n",
       "3        Yes, that would be helpful   \n",
       "4  No, I don't think it's necessary   \n",
       "\n",
       "                                Desired_App_Features  \\\n",
       "0  Privacy, Soft guidance, Visuals, Report sharin...   \n",
       "1                                            Privacy   \n",
       "2                                      Soft guidance   \n",
       "3                             Game-based interaction   \n",
       "4  Quick tests, Game-based interaction, Detailed ...   \n",
       "\n",
       "  Awareness_on_hearing_and_Willingness_to_invest  \\\n",
       "0                                            Yes   \n",
       "1                                            Yes   \n",
       "2                                             No   \n",
       "3                                            Yes   \n",
       "4                                             No   \n",
       "\n",
       "                      Paid_App_Test_Interest Age_group  \\\n",
       "0             Maybe, if it offers good value   18 - 24   \n",
       "1  No, I prefer getting tested at a hospital   18 - 24   \n",
       "2                            Yes, definitely   18 - 24   \n",
       "3                            Yes, definitely   18 - 24   \n",
       "4  No, I prefer getting tested at a hospital   25 - 34   \n",
       "\n",
       "  Ear_Discomfort_After_Use  \n",
       "0                       No  \n",
       "1                      Yes  \n",
       "2                    Maybe  \n",
       "3             Occasionally  \n",
       "4                       No  "
      ]
     },
     "execution_count": 31,
     "metadata": {},
     "output_type": "execute_result"
    }
   ],
   "source": [
    "df.head()"
   ]
  },
  {
   "cell_type": "code",
   "execution_count": null,
   "id": "613f75f2",
   "metadata": {},
   "outputs": [],
   "source": []
  }
 ],
 "metadata": {
  "kernelspec": {
   "display_name": "Python 3",
   "language": "python",
   "name": "python3"
  },
  "language_info": {
   "codemirror_mode": {
    "name": "ipython",
    "version": 3
   },
   "file_extension": ".py",
   "mimetype": "text/x-python",
   "name": "python",
   "nbconvert_exporter": "python",
   "pygments_lexer": "ipython3",
   "version": "3.13.7"
  }
 },
 "nbformat": 4,
 "nbformat_minor": 5
}
