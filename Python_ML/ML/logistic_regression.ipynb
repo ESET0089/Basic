{
 "cells": [
  {
   "cell_type": "markdown",
   "id": "bf93efc7",
   "metadata": {},
   "source": [
    "# Logistic Regression\n",
    "### Import Libraries"
   ]
  },
  {
   "cell_type": "code",
   "execution_count": 39,
   "id": "efa0c583",
   "metadata": {},
   "outputs": [],
   "source": [
    "# Step 1 : import library\n",
    "import pandas as pd\n",
    "import numpy as np\n",
    "import seaborn as sns\n",
    "import matplotlib.pyplot as plt\n",
    "from sklearn.metrics import mean_absolute_error, mean_absolute_percentage_error, mean_squared_error\n",
    "from sklearn.metrics import classification_report, confusion_matrix\n",
    "from sklearn.linear_model import LogisticRegression\n",
    "from sklearn.model_selection import train_test_split\n",
    "\n"
   ]
  },
  {
   "cell_type": "markdown",
   "id": "c24d6eeb",
   "metadata": {},
   "source": [
    "### Import dataset"
   ]
  },
  {
   "cell_type": "code",
   "execution_count": 40,
   "id": "83cb36ce",
   "metadata": {},
   "outputs": [],
   "source": [
    "df = pd.read_csv('../Datasets/candy-data.csv')"
   ]
  },
  {
   "cell_type": "code",
   "execution_count": 41,
   "id": "415ab0d7",
   "metadata": {},
   "outputs": [
    {
     "data": {
      "text/html": [
       "<div>\n",
       "<style scoped>\n",
       "    .dataframe tbody tr th:only-of-type {\n",
       "        vertical-align: middle;\n",
       "    }\n",
       "\n",
       "    .dataframe tbody tr th {\n",
       "        vertical-align: top;\n",
       "    }\n",
       "\n",
       "    .dataframe thead th {\n",
       "        text-align: right;\n",
       "    }\n",
       "</style>\n",
       "<table border=\"1\" class=\"dataframe\">\n",
       "  <thead>\n",
       "    <tr style=\"text-align: right;\">\n",
       "      <th></th>\n",
       "      <th>competitorname</th>\n",
       "      <th>chocolate</th>\n",
       "      <th>fruity</th>\n",
       "      <th>caramel</th>\n",
       "      <th>peanutyalmondy</th>\n",
       "      <th>nougat</th>\n",
       "      <th>crispedricewafer</th>\n",
       "      <th>hard</th>\n",
       "      <th>bar</th>\n",
       "      <th>pluribus</th>\n",
       "      <th>sugarpercent</th>\n",
       "      <th>pricepercent</th>\n",
       "      <th>winpercent</th>\n",
       "    </tr>\n",
       "  </thead>\n",
       "  <tbody>\n",
       "    <tr>\n",
       "      <th>0</th>\n",
       "      <td>100 Grand</td>\n",
       "      <td>1</td>\n",
       "      <td>0</td>\n",
       "      <td>1</td>\n",
       "      <td>0</td>\n",
       "      <td>0</td>\n",
       "      <td>1</td>\n",
       "      <td>0</td>\n",
       "      <td>1</td>\n",
       "      <td>0</td>\n",
       "      <td>0.732</td>\n",
       "      <td>0.860</td>\n",
       "      <td>66.971725</td>\n",
       "    </tr>\n",
       "    <tr>\n",
       "      <th>1</th>\n",
       "      <td>3 Musketeers</td>\n",
       "      <td>1</td>\n",
       "      <td>0</td>\n",
       "      <td>0</td>\n",
       "      <td>0</td>\n",
       "      <td>1</td>\n",
       "      <td>0</td>\n",
       "      <td>0</td>\n",
       "      <td>1</td>\n",
       "      <td>0</td>\n",
       "      <td>0.604</td>\n",
       "      <td>0.511</td>\n",
       "      <td>67.602936</td>\n",
       "    </tr>\n",
       "    <tr>\n",
       "      <th>2</th>\n",
       "      <td>One dime</td>\n",
       "      <td>0</td>\n",
       "      <td>0</td>\n",
       "      <td>0</td>\n",
       "      <td>0</td>\n",
       "      <td>0</td>\n",
       "      <td>0</td>\n",
       "      <td>0</td>\n",
       "      <td>0</td>\n",
       "      <td>0</td>\n",
       "      <td>0.011</td>\n",
       "      <td>0.116</td>\n",
       "      <td>32.261086</td>\n",
       "    </tr>\n",
       "    <tr>\n",
       "      <th>3</th>\n",
       "      <td>One quarter</td>\n",
       "      <td>0</td>\n",
       "      <td>0</td>\n",
       "      <td>0</td>\n",
       "      <td>0</td>\n",
       "      <td>0</td>\n",
       "      <td>0</td>\n",
       "      <td>0</td>\n",
       "      <td>0</td>\n",
       "      <td>0</td>\n",
       "      <td>0.011</td>\n",
       "      <td>0.511</td>\n",
       "      <td>46.116505</td>\n",
       "    </tr>\n",
       "    <tr>\n",
       "      <th>4</th>\n",
       "      <td>Air Heads</td>\n",
       "      <td>0</td>\n",
       "      <td>1</td>\n",
       "      <td>0</td>\n",
       "      <td>0</td>\n",
       "      <td>0</td>\n",
       "      <td>0</td>\n",
       "      <td>0</td>\n",
       "      <td>0</td>\n",
       "      <td>0</td>\n",
       "      <td>0.906</td>\n",
       "      <td>0.511</td>\n",
       "      <td>52.341465</td>\n",
       "    </tr>\n",
       "  </tbody>\n",
       "</table>\n",
       "</div>"
      ],
      "text/plain": [
       "  competitorname  chocolate  fruity  caramel  peanutyalmondy  nougat  \\\n",
       "0      100 Grand          1       0        1               0       0   \n",
       "1   3 Musketeers          1       0        0               0       1   \n",
       "2       One dime          0       0        0               0       0   \n",
       "3    One quarter          0       0        0               0       0   \n",
       "4      Air Heads          0       1        0               0       0   \n",
       "\n",
       "   crispedricewafer  hard  bar  pluribus  sugarpercent  pricepercent  \\\n",
       "0                 1     0    1         0         0.732         0.860   \n",
       "1                 0     0    1         0         0.604         0.511   \n",
       "2                 0     0    0         0         0.011         0.116   \n",
       "3                 0     0    0         0         0.011         0.511   \n",
       "4                 0     0    0         0         0.906         0.511   \n",
       "\n",
       "   winpercent  \n",
       "0   66.971725  \n",
       "1   67.602936  \n",
       "2   32.261086  \n",
       "3   46.116505  \n",
       "4   52.341465  "
      ]
     },
     "execution_count": 41,
     "metadata": {},
     "output_type": "execute_result"
    }
   ],
   "source": [
    "df.head()"
   ]
  },
  {
   "cell_type": "markdown",
   "id": "dc314371",
   "metadata": {},
   "source": [
    "### Drop unwanted columns"
   ]
  },
  {
   "cell_type": "code",
   "execution_count": 42,
   "id": "017b28c3",
   "metadata": {},
   "outputs": [],
   "source": [
    "df.drop(columns=['competitorname'], inplace=True)"
   ]
  },
  {
   "cell_type": "markdown",
   "id": "08b9fa3d",
   "metadata": {},
   "source": [
    "### Train Test Split"
   ]
  },
  {
   "cell_type": "code",
   "execution_count": 43,
   "id": "fc0750cf",
   "metadata": {},
   "outputs": [],
   "source": [
    "trainingSet, testSet = train_test_split(df, test_size=0.2, random_state=7)"
   ]
  },
  {
   "cell_type": "code",
   "execution_count": 44,
   "id": "42164b2d",
   "metadata": {},
   "outputs": [
    {
     "name": "stdout",
     "output_type": "stream",
     "text": [
      "    chocolate  fruity  caramel  peanutyalmondy  nougat  crispedricewafer  \\\n",
      "49          0       1        0               0       0                 0   \n",
      "62          1       0        0               0       0                 0   \n",
      "30          0       1        0               0       0                 0   \n",
      "22          1       0        0               0       0                 0   \n",
      "27          1       0        0               0       0                 0   \n",
      "..        ...     ...      ...             ...     ...               ...   \n",
      "23          1       0        0               0       0                 1   \n",
      "67          0       1        0               0       0                 0   \n",
      "25          1       0        0               0       0                 0   \n",
      "68          0       1        0               0       0                 0   \n",
      "47          1       0        0               1       0                 0   \n",
      "\n",
      "    hard  bar  pluribus  sugarpercent  pricepercent  winpercent  \n",
      "49     1    0         1         0.604         0.837   41.265511  \n",
      "62     0    0         1         0.267         0.976   37.887188  \n",
      "30     1    0         0         0.046         0.104   39.141056  \n",
      "22     0    0         1         0.127         0.093   55.375454  \n",
      "27     0    0         1         0.197         0.511   57.219250  \n",
      "..   ...  ...       ...           ...           ...         ...  \n",
      "23     0    1         0         0.430         0.918   62.284481  \n",
      "67     0    0         1         0.069         0.116   52.825947  \n",
      "25     0    1         0         0.430         0.918   59.236122  \n",
      "68     0    0         1         0.151         0.220   67.037628  \n",
      "47     0    0         1         0.593         0.651   69.483788  \n",
      "\n",
      "[68 rows x 12 columns]     chocolate  fruity  caramel  peanutyalmondy  nougat  crispedricewafer  \\\n",
      "13          0       1        0               0       0                 0   \n",
      "45          0       1        0               0       0                 0   \n",
      "17          0       1        0               0       0                 0   \n",
      "20          0       1        0               0       0                 0   \n",
      "12          0       1        0               0       0                 0   \n",
      "40          1       0        0               1       0                 0   \n",
      "11          0       1        0               0       0                 0   \n",
      "66          0       1        0               0       0                 0   \n",
      "84          1       0        0               0       0                 1   \n",
      "73          0       1        0               0       0                 0   \n",
      "15          0       1        0               0       0                 0   \n",
      "33          1       0        0               0       0                 0   \n",
      "18          0       1        0               0       0                 0   \n",
      "58          0       1        0               0       0                 0   \n",
      "41          0       1        0               0       0                 0   \n",
      "64          1       0        1               1       1                 0   \n",
      "2           0       0        0               0       0                 0   \n",
      "\n",
      "    hard  bar  pluribus  sugarpercent  pricepercent  winpercent  \n",
      "13     0    0         1         0.732         0.511   42.272076  \n",
      "45     0    0         1         0.220         0.325   39.446800  \n",
      "17     1    0         1         0.906         0.453   46.783348  \n",
      "20     0    0         1         0.465         0.465   51.412430  \n",
      "12     0    0         1         0.046         0.325   24.524988  \n",
      "40     0    1         0         0.313         0.918   54.526451  \n",
      "11     0    0         1         0.732         0.511   36.017628  \n",
      "66     0    0         1         0.069         0.116   59.863998  \n",
      "84     0    0         1         0.872         0.848   49.524113  \n",
      "73     0    0         1         0.604         0.755   54.861111  \n",
      "15     0    0         1         0.127         0.034   43.088924  \n",
      "33     0    0         1         0.825         0.651   66.574585  \n",
      "18     0    0         1         0.465         0.465   57.119740  \n",
      "58     1    0         1         0.872         0.279   42.849144  \n",
      "41     1    0         1         0.848         0.325   55.354046  \n",
      "64     0    1         0         0.546         0.651   76.673782  \n",
      "2      0    0         0         0.011         0.116   32.261086  \n"
     ]
    }
   ],
   "source": [
    "train_df = trainingSet\n",
    "test_df = testSet\n",
    "\n",
    "print(train_df, test_df)"
   ]
  },
  {
   "cell_type": "code",
   "execution_count": 45,
   "id": "95e3a1aa",
   "metadata": {},
   "outputs": [
    {
     "data": {
      "text/plain": [
       "['chocolate',\n",
       " 'fruity',\n",
       " 'caramel',\n",
       " 'peanutyalmondy',\n",
       " 'nougat',\n",
       " 'crispedricewafer',\n",
       " 'hard',\n",
       " 'bar',\n",
       " 'pluribus',\n",
       " 'sugarpercent',\n",
       " 'pricepercent',\n",
       " 'winpercent']"
      ]
     },
     "execution_count": 45,
     "metadata": {},
     "output_type": "execute_result"
    }
   ],
   "source": [
    "df.columns.to_list()"
   ]
  },
  {
   "cell_type": "markdown",
   "id": "fb1526af",
   "metadata": {},
   "source": [
    "### Splitting Input and Output features"
   ]
  },
  {
   "cell_type": "code",
   "execution_count": 46,
   "id": "62b8127e",
   "metadata": {},
   "outputs": [
    {
     "name": "stdout",
     "output_type": "stream",
     "text": [
      "(68, 11) (17, 11) (68,) (17,)\n"
     ]
    }
   ],
   "source": [
    "x_train = train_df[[\n",
    " 'fruity',\n",
    " 'caramel',\n",
    " 'peanutyalmondy',\n",
    " 'nougat',\n",
    " 'crispedricewafer',\n",
    " 'hard',\n",
    " 'bar',\n",
    " 'pluribus',\n",
    " 'sugarpercent',\n",
    " 'pricepercent',\n",
    " 'winpercent']]\n",
    "\n",
    "y_train = train_df['chocolate']\n",
    "\n",
    "x_test = test_df[[\n",
    " 'fruity',\n",
    " 'caramel',\n",
    " 'peanutyalmondy',\n",
    " 'nougat',\n",
    " 'crispedricewafer',\n",
    " 'hard',\n",
    " 'bar',\n",
    " 'pluribus',\n",
    " 'sugarpercent',\n",
    " 'pricepercent',\n",
    " 'winpercent']]\n",
    "\n",
    "y_test = test_df['chocolate']\n",
    "\n",
    "print(x_train.shape,x_test.shape,y_train.shape,y_test.shape)"
   ]
  },
  {
   "cell_type": "code",
   "execution_count": 47,
   "id": "bc64ecc4",
   "metadata": {},
   "outputs": [
    {
     "data": {
      "text/plain": [
       "chocolate\n",
       "0    35\n",
       "1    33\n",
       "Name: count, dtype: int64"
      ]
     },
     "execution_count": 47,
     "metadata": {},
     "output_type": "execute_result"
    }
   ],
   "source": [
    "y_train.value_counts()"
   ]
  },
  {
   "cell_type": "markdown",
   "id": "e6246976",
   "metadata": {},
   "source": [
    "### Model Training"
   ]
  },
  {
   "cell_type": "code",
   "execution_count": 48,
   "id": "bf8d2821",
   "metadata": {},
   "outputs": [
    {
     "name": "stdout",
     "output_type": "stream",
     "text": [
      "[0 0 0 0 0 1 0 0 1 0 0 1 0 0 0 1 0]\n"
     ]
    }
   ],
   "source": [
    "logreg = LogisticRegression()\n",
    "logreg.fit(x_train, y_train)\n",
    "y_pred = logreg.predict(x_test)\n",
    "print(y_pred)"
   ]
  },
  {
   "cell_type": "code",
   "execution_count": 49,
   "id": "7d751cfe",
   "metadata": {},
   "outputs": [
    {
     "data": {
      "text/plain": [
       "array([[13,  0],\n",
       "       [ 0,  4]])"
      ]
     },
     "execution_count": 49,
     "metadata": {},
     "output_type": "execute_result"
    }
   ],
   "source": [
    "cnf_matrix = confusion_matrix(y_test, y_pred)\n",
    "cnf_matrix"
   ]
  },
  {
   "cell_type": "code",
   "execution_count": 50,
   "id": "1aee2d9d",
   "metadata": {},
   "outputs": [
    {
     "data": {
      "image/png": "[encoded data removed]",
      "text/plain": [
       "<Figure size 640x480 with 2 Axes>"
      ]
     },
     "metadata": {},
     "output_type": "display_data"
    }
   ],
   "source": [
    "class_names = [0,1]\n",
    "fig, ax = plt.subplots()\n",
    "tick_marks = np.arange(len(class_names))\n",
    "plt.xticks(tick_marks, class_names)\n",
    "plt.yticks(tick_marks, class_names)\n",
    "sns.heatmap(pd.DataFrame(cnf_matrix), annot=True, cmap='YlGnBu',fmt='g')\n",
    "plt.show()"
   ]
  },
  {
   "cell_type": "code",
   "execution_count": 51,
   "id": "64d9f85f",
   "metadata": {},
   "outputs": [],
   "source": [
    "from sklearn import metrics"
   ]
  },
  {
   "cell_type": "markdown",
   "id": "bc301b62",
   "metadata": {},
   "source": [
    "### Result"
   ]
  },
  {
   "cell_type": "code",
   "execution_count": 52,
   "id": "a0c03292",
   "metadata": {},
   "outputs": [
    {
     "name": "stdout",
     "output_type": "stream",
     "text": [
      "Accuracy: 1.0\n",
      "Precision: 1.0\n",
      "Recall: 1.0\n"
     ]
    }
   ],
   "source": [
    "print('Accuracy:',metrics.accuracy_score(y_test, y_pred))\n",
    "print('Precision:',metrics.precision_score(y_test, y_pred))\n",
    "print('Recall:',metrics.recall_score(y_test, y_pred))"
   ]
  },
  {
   "cell_type": "code",
   "execution_count": null,
   "id": "f0718760",
   "metadata": {},
   "outputs": [],
   "source": []
  }
 ],
 "metadata": {
  "kernelspec": {
   "display_name": "Python 3",
   "language": "python",
   "name": "python3"
  },
  "language_info": {
   "codemirror_mode": {
    "name": "ipython",
    "version": 3
   },
   "file_extension": ".py",
   "mimetype": "text/x-python",
   "name": "python",
   "nbconvert_exporter": "python",
   "pygments_lexer": "ipython3",
   "version": "3.13.7"
  }
 },
 "nbformat": 4,
 "nbformat_minor": 5
}
