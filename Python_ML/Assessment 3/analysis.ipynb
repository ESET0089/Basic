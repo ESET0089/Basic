{
 "cells": [
  {
   "cell_type": "markdown",
   "id": "3b8cbcee",
   "metadata": {},
   "source": [
    "# Functions\n",
    "### Function Definition"
   ]
  },
  {
   "cell_type": "code",
   "execution_count": 5,
   "id": "3462524b",
   "metadata": {},
   "outputs": [],
   "source": [
    "def student_info(name, age=18):\n",
    "    print(name,age)"
   ]
  },
  {
   "cell_type": "markdown",
   "id": "1bbc932c",
   "metadata": {},
   "source": [
    "### Function Calling"
   ]
  },
  {
   "cell_type": "code",
   "execution_count": 6,
   "id": "fd564bb6",
   "metadata": {},
   "outputs": [
    {
     "name": "stdout",
     "output_type": "stream",
     "text": [
      "John 18\n",
      "Alice 98\n"
     ]
    }
   ],
   "source": [
    "student_info(\"John\")\n",
    "student_info(\"Alice\",98)"
   ]
  },
  {
   "cell_type": "markdown",
   "id": "143d7972",
   "metadata": {},
   "source": [
    "# Numpy\n",
    "### Installing Numpy "
   ]
  },
  {
   "cell_type": "code",
   "execution_count": 1,
   "id": "a67d34b2",
   "metadata": {},
   "outputs": [
    {
     "name": "stdout",
     "output_type": "stream",
     "text": [
      "Requirement already satisfied: numpy in c:\\users\\user\\appdata\\local\\programs\\python\\python313\\lib\\site-packages (2.3.2)\n",
      "Note: you may need to restart the kernel to use updated packages.\n"
     ]
    }
   ],
   "source": [
    "%pip install numpy"
   ]
  },
  {
   "cell_type": "markdown",
   "id": "e160a780",
   "metadata": {},
   "source": []
  },
  {
   "cell_type": "markdown",
   "id": "cf754091",
   "metadata": {},
   "source": [
    "### Importing Numpy"
   ]
  },
  {
   "cell_type": "code",
   "execution_count": 13,
   "id": "3df3f36d",
   "metadata": {},
   "outputs": [],
   "source": [
    "import numpy as np"
   ]
  },
  {
   "cell_type": "markdown",
   "id": "85bc697e",
   "metadata": {},
   "source": [
    "### Numpy array"
   ]
  },
  {
   "cell_type": "code",
   "execution_count": 17,
   "id": "2d6630cc",
   "metadata": {},
   "outputs": [
    {
     "name": "stdout",
     "output_type": "stream",
     "text": [
      "[1 2 3] \n",
      "\n",
      "[[1 2 3]\n",
      " [4 5 6]] \n",
      "\n",
      "[[[1 2 3]\n",
      "  [4 5 6]]\n",
      "\n",
      " [[1 2 3]\n",
      "  [4 5 6]]] \n",
      "\n"
     ]
    }
   ],
   "source": [
    "x = np.array([1,2,3])                       #1D array\n",
    "y = np.array([[1,2,3],[4,5,6]])                #2D array\n",
    "z = np.array([[[1, 2, 3], [4, 5, 6]], [[1, 2, 3], [4, 5, 6]]])        #3D array\n",
    "print(x,\"\\n\")\n",
    "print(y,\"\\n\")\n",
    "print(z,\"\\n\")"
   ]
  },
  {
   "cell_type": "markdown",
   "id": "9be3791f",
   "metadata": {},
   "source": [
    "# Pandas"
   ]
  },
  {
   "cell_type": "code",
   "execution_count": null,
   "id": "9ecb4020",
   "metadata": {},
   "outputs": [
    {
     "name": "stdout",
     "output_type": "stream",
     "text": [
      "Requirement already satisfied: pandas in c:\\users\\user\\appdata\\local\\programs\\python\\python313\\lib\\site-packages (2.3.2)\n",
      "Requirement already satisfied: numpy>=1.26.0 in c:\\users\\user\\appdata\\local\\programs\\python\\python313\\lib\\site-packages (from pandas) (2.3.2)\n",
      "Requirement already satisfied: python-dateutil>=2.8.2 in c:\\users\\user\\appdata\\local\\programs\\python\\python313\\lib\\site-packages (from pandas) (2.9.0.post0)\n",
      "Requirement already satisfied: pytz>=2020.1 in c:\\users\\user\\appdata\\local\\programs\\python\\python313\\lib\\site-packages (from pandas) (2025.2)\n",
      "Requirement already satisfied: tzdata>=2022.7 in c:\\users\\user\\appdata\\local\\programs\\python\\python313\\lib\\site-packages (from pandas) (2025.2)\n",
      "Requirement already satisfied: six>=1.5 in c:\\users\\user\\appdata\\local\\programs\\python\\python313\\lib\\site-packages (from python-dateutil>=2.8.2->pandas) (1.17.0)\n"
     ]
    }
   ],
   "source": [
    "%pip install pandas"
   ]
  },
  {
   "cell_type": "code",
   "execution_count": 2,
   "id": "283aab15",
   "metadata": {},
   "outputs": [],
   "source": [
    "import pandas as pd"
   ]
  },
  {
   "cell_type": "markdown",
   "id": "4512c164",
   "metadata": {},
   "source": [
    "# Series and Dataframe\n",
    "#### Pandas can be used to convert a list to a Series and a 2d array into a Dataframe"
   ]
  },
  {
   "cell_type": "code",
   "execution_count": 20,
   "id": "a6723c45",
   "metadata": {},
   "outputs": [
    {
     "name": "stdout",
     "output_type": "stream",
     "text": [
      "Type of Series:<class 'pandas.core.series.Series'>\n"
     ]
    }
   ],
   "source": [
    "s = pd.Series([10,20,30,40], name = \"myNumbers\")\n",
    "print(f\"Type of Series:{type(s)}\")"
   ]
  },
  {
   "cell_type": "code",
   "execution_count": 27,
   "id": "b6aef741",
   "metadata": {},
   "outputs": [
    {
     "name": "stdout",
     "output_type": "stream",
     "text": [
      "<class 'dict'>\n",
      "{'Name': ['Alice', 'Bob', 'David', 'Nina'], 'Age': [25, 30, 35, 25], 'City': ['NYC', 'London', 'Paris', 'NYC'], 'Salary': [70000, 58000, 95000, 75000]}\n"
     ]
    }
   ],
   "source": [
    "data = {\n",
    "    'Name':['Alice','Bob','David','Nina'],\n",
    "    'Age':[25,30,35,25],\n",
    "    'City':['NYC','London','Paris','NYC'],\n",
    "    'Salary':[70000,58000,95000,75000]\n",
    "}\n",
    "\n",
    "print(type(data))\n",
    "print(data)\n"
   ]
  },
  {
   "cell_type": "code",
   "execution_count": 26,
   "id": "432da1de",
   "metadata": {},
   "outputs": [
    {
     "data": {
      "text/html": [
       "<div>\n",
       "<style scoped>\n",
       "    .dataframe tbody tr th:only-of-type {\n",
       "        vertical-align: middle;\n",
       "    }\n",
       "\n",
       "    .dataframe tbody tr th {\n",
       "        vertical-align: top;\n",
       "    }\n",
       "\n",
       "    .dataframe thead th {\n",
       "        text-align: right;\n",
       "    }\n",
       "</style>\n",
       "<table border=\"1\" class=\"dataframe\">\n",
       "  <thead>\n",
       "    <tr style=\"text-align: right;\">\n",
       "      <th></th>\n",
       "      <th>Name</th>\n",
       "      <th>Age</th>\n",
       "      <th>City</th>\n",
       "      <th>Salary</th>\n",
       "    </tr>\n",
       "  </thead>\n",
       "  <tbody>\n",
       "    <tr>\n",
       "      <th>0</th>\n",
       "      <td>Alice</td>\n",
       "      <td>25</td>\n",
       "      <td>NYC</td>\n",
       "      <td>70000</td>\n",
       "    </tr>\n",
       "    <tr>\n",
       "      <th>1</th>\n",
       "      <td>Bob</td>\n",
       "      <td>30</td>\n",
       "      <td>London</td>\n",
       "      <td>58000</td>\n",
       "    </tr>\n",
       "    <tr>\n",
       "      <th>2</th>\n",
       "      <td>David</td>\n",
       "      <td>35</td>\n",
       "      <td>Paris</td>\n",
       "      <td>95000</td>\n",
       "    </tr>\n",
       "    <tr>\n",
       "      <th>3</th>\n",
       "      <td>Nina</td>\n",
       "      <td>25</td>\n",
       "      <td>NYC</td>\n",
       "      <td>75000</td>\n",
       "    </tr>\n",
       "  </tbody>\n",
       "</table>\n",
       "</div>"
      ],
      "text/plain": [
       "    Name  Age    City  Salary\n",
       "0  Alice   25     NYC   70000\n",
       "1    Bob   30  London   58000\n",
       "2  David   35   Paris   95000\n",
       "3   Nina   25     NYC   75000"
      ]
     },
     "execution_count": 26,
     "metadata": {},
     "output_type": "execute_result"
    }
   ],
   "source": [
    "df = pd.DataFrame(data)\n",
    "df.head()"
   ]
  },
  {
   "cell_type": "markdown",
   "id": "19d396bf",
   "metadata": {},
   "source": [
    "### Read CSV"
   ]
  },
  {
   "cell_type": "code",
   "execution_count": 3,
   "id": "3d267fae",
   "metadata": {},
   "outputs": [],
   "source": [
    "df = pd.read_csv('../Datasets/hearing-well-being.csv')"
   ]
  },
  {
   "cell_type": "code",
   "execution_count": 31,
   "id": "53d8aca5",
   "metadata": {},
   "outputs": [
    {
     "data": {
      "text/html": [
       "<div>\n",
       "<style scoped>\n",
       "    .dataframe tbody tr th:only-of-type {\n",
       "        vertical-align: middle;\n",
       "    }\n",
       "\n",
       "    .dataframe tbody tr th {\n",
       "        vertical-align: top;\n",
       "    }\n",
       "\n",
       "    .dataframe thead th {\n",
       "        text-align: right;\n",
       "    }\n",
       "</style>\n",
       "<table border=\"1\" class=\"dataframe\">\n",
       "  <thead>\n",
       "    <tr style=\"text-align: right;\">\n",
       "      <th></th>\n",
       "      <th>Perceived_Hearing_Meaning</th>\n",
       "      <th>Hearing_FOMO</th>\n",
       "      <th>Hearing_Test_Barrier</th>\n",
       "      <th>Missed_Important_Sounds</th>\n",
       "      <th>Left_Out_Due_To_Hearing</th>\n",
       "      <th>Daily_Headphone_Use</th>\n",
       "      <th>Belief_Early_Hearing_Care</th>\n",
       "      <th>Last_Hearing_Test_Method</th>\n",
       "      <th>Interest_in_Hearing_App</th>\n",
       "      <th>Desired_App_Features</th>\n",
       "      <th>Awareness_on_hearing_and_Willingness_to_invest</th>\n",
       "      <th>Paid_App_Test_Interest</th>\n",
       "      <th>Age_group</th>\n",
       "      <th>Ear_Discomfort_After_Use</th>\n",
       "    </tr>\n",
       "  </thead>\n",
       "  <tbody>\n",
       "    <tr>\n",
       "      <th>0</th>\n",
       "      <td>Staying independent and alert, Enjoying music,...</td>\n",
       "      <td>Sometimes</td>\n",
       "      <td>Cost</td>\n",
       "      <td>Yes, in family conversations</td>\n",
       "      <td>Yes, often</td>\n",
       "      <td>My parent(s)</td>\n",
       "      <td>5</td>\n",
       "      <td>Self - application, Loved one, AI Support</td>\n",
       "      <td>Yes</td>\n",
       "      <td>Privacy, Soft guidance, Visuals, Report sharin...</td>\n",
       "      <td>Yes</td>\n",
       "      <td>Maybe, if it offers good value</td>\n",
       "      <td>18 - 24</td>\n",
       "      <td>No</td>\n",
       "    </tr>\n",
       "    <tr>\n",
       "      <th>1</th>\n",
       "      <td>Staying independent and alert, Staying connect...</td>\n",
       "      <td>Rarely</td>\n",
       "      <td>Never felt the need</td>\n",
       "      <td>Yes, in public spaces (trains, shops, announce...</td>\n",
       "      <td>Only in noisy places</td>\n",
       "      <td>My child/children</td>\n",
       "      <td>5</td>\n",
       "      <td>Self - application</td>\n",
       "      <td>Yes</td>\n",
       "      <td>Privacy</td>\n",
       "      <td>Yes</td>\n",
       "      <td>No, I prefer getting tested at a hospital</td>\n",
       "      <td>18 - 24</td>\n",
       "      <td>Yes</td>\n",
       "    </tr>\n",
       "    <tr>\n",
       "      <th>2</th>\n",
       "      <td>Staying independent and alert, I havenâ€™t tho...</td>\n",
       "      <td>Rarely</td>\n",
       "      <td>Shame</td>\n",
       "      <td>Yes, during important work or school meetings</td>\n",
       "      <td>Sometimes</td>\n",
       "      <td>My parent(s)</td>\n",
       "      <td>5</td>\n",
       "      <td>Self - application</td>\n",
       "      <td>Maybe</td>\n",
       "      <td>Soft guidance</td>\n",
       "      <td>No</td>\n",
       "      <td>Yes, definitely</td>\n",
       "      <td>18 - 24</td>\n",
       "      <td>Maybe</td>\n",
       "    </tr>\n",
       "    <tr>\n",
       "      <th>3</th>\n",
       "      <td>Staying independent and alert</td>\n",
       "      <td>Yes often</td>\n",
       "      <td>Lack of awareness</td>\n",
       "      <td>Yes, during important work or school meetings</td>\n",
       "      <td>Sometimes</td>\n",
       "      <td>1-2 hours</td>\n",
       "      <td>4</td>\n",
       "      <td>I've never taken a hearing test</td>\n",
       "      <td>Yes, that would be helpful</td>\n",
       "      <td>Game-based interaction</td>\n",
       "      <td>Yes</td>\n",
       "      <td>Yes, definitely</td>\n",
       "      <td>18 - 24</td>\n",
       "      <td>Occasionally</td>\n",
       "    </tr>\n",
       "    <tr>\n",
       "      <th>4</th>\n",
       "      <td>Staying independent and alert</td>\n",
       "      <td>Never</td>\n",
       "      <td>Lack of awareness</td>\n",
       "      <td>No, I usually hear things well</td>\n",
       "      <td>Only in noisy places</td>\n",
       "      <td>Less than 1 hour</td>\n",
       "      <td>5</td>\n",
       "      <td>I've never taken a hearing test</td>\n",
       "      <td>No, I don't think it's necessary</td>\n",
       "      <td>Quick tests, Game-based interaction, Detailed ...</td>\n",
       "      <td>No</td>\n",
       "      <td>No, I prefer getting tested at a hospital</td>\n",
       "      <td>25 - 34</td>\n",
       "      <td>No</td>\n",
       "    </tr>\n",
       "  </tbody>\n",
       "</table>\n",
       "</div>"
      ],
      "text/plain": [
       "                           Perceived_Hearing_Meaning Hearing_FOMO  \\\n",
       "0  Staying independent and alert, Enjoying music,...    Sometimes   \n",
       "1  Staying independent and alert, Staying connect...       Rarely   \n",
       "2  Staying independent and alert, I havenâ€™t tho...       Rarely   \n",
       "3                      Staying independent and alert    Yes often   \n",
       "4                      Staying independent and alert        Never   \n",
       "\n",
       "  Hearing_Test_Barrier                            Missed_Important_Sounds  \\\n",
       "0                 Cost                       Yes, in family conversations   \n",
       "1  Never felt the need  Yes, in public spaces (trains, shops, announce...   \n",
       "2                Shame      Yes, during important work or school meetings   \n",
       "3    Lack of awareness      Yes, during important work or school meetings   \n",
       "4    Lack of awareness                     No, I usually hear things well   \n",
       "\n",
       "  Left_Out_Due_To_Hearing Daily_Headphone_Use  Belief_Early_Hearing_Care  \\\n",
       "0              Yes, often        My parent(s)                          5   \n",
       "1    Only in noisy places   My child/children                          5   \n",
       "2               Sometimes        My parent(s)                          5   \n",
       "3               Sometimes           1-2 hours                          4   \n",
       "4    Only in noisy places    Less than 1 hour                          5   \n",
       "\n",
       "                    Last_Hearing_Test_Method  \\\n",
       "0  Self - application, Loved one, AI Support   \n",
       "1                         Self - application   \n",
       "2                         Self - application   \n",
       "3            I've never taken a hearing test   \n",
       "4            I've never taken a hearing test   \n",
       "\n",
       "            Interest_in_Hearing_App  \\\n",
       "0                               Yes   \n",
       "1                               Yes   \n",
       "2                             Maybe   \n",
       "3        Yes, that would be helpful   \n",
       "4  No, I don't think it's necessary   \n",
       "\n",
       "                                Desired_App_Features  \\\n",
       "0  Privacy, Soft guidance, Visuals, Report sharin...   \n",
       "1                                            Privacy   \n",
       "2                                      Soft guidance   \n",
       "3                             Game-based interaction   \n",
       "4  Quick tests, Game-based interaction, Detailed ...   \n",
       "\n",
       "  Awareness_on_hearing_and_Willingness_to_invest  \\\n",
       "0                                            Yes   \n",
       "1                                            Yes   \n",
       "2                                             No   \n",
       "3                                            Yes   \n",
       "4                                             No   \n",
       "\n",
       "                      Paid_App_Test_Interest Age_group  \\\n",
       "0             Maybe, if it offers good value   18 - 24   \n",
       "1  No, I prefer getting tested at a hospital   18 - 24   \n",
       "2                            Yes, definitely   18 - 24   \n",
       "3                            Yes, definitely   18 - 24   \n",
       "4  No, I prefer getting tested at a hospital   25 - 34   \n",
       "\n",
       "  Ear_Discomfort_After_Use  \n",
       "0                       No  \n",
       "1                      Yes  \n",
       "2                    Maybe  \n",
       "3             Occasionally  \n",
       "4                       No  "
      ]
     },
     "execution_count": 31,
     "metadata": {},
     "output_type": "execute_result"
    }
   ],
   "source": [
    "df.head()"
   ]
  },
  {
   "cell_type": "markdown",
   "id": "f718e155",
   "metadata": {},
   "source": [
    "# Matplotlib\n",
    "## Installing & Importing Matplotlib"
   ]
  },
  {
   "cell_type": "code",
   "execution_count": 3,
   "id": "613f75f2",
   "metadata": {},
   "outputs": [
    {
     "name": "stdout",
     "output_type": "stream",
     "text": [
      "Requirement already satisfied: matplotlib in c:\\users\\user\\appdata\\local\\programs\\python\\python313\\lib\\site-packages (3.10.6)\n",
      "Requirement already satisfied: contourpy>=1.0.1 in c:\\users\\user\\appdata\\local\\programs\\python\\python313\\lib\\site-packages (from matplotlib) (1.3.3)\n",
      "Requirement already satisfied: cycler>=0.10 in c:\\users\\user\\appdata\\local\\programs\\python\\python313\\lib\\site-packages (from matplotlib) (0.12.1)\n",
      "Requirement already satisfied: fonttools>=4.22.0 in c:\\users\\user\\appdata\\local\\programs\\python\\python313\\lib\\site-packages (from matplotlib) (4.59.2)\n",
      "Requirement already satisfied: kiwisolver>=1.3.1 in c:\\users\\user\\appdata\\local\\programs\\python\\python313\\lib\\site-packages (from matplotlib) (1.4.9)\n",
      "Requirement already satisfied: numpy>=1.23 in c:\\users\\user\\appdata\\local\\programs\\python\\python313\\lib\\site-packages (from matplotlib) (2.3.2)\n",
      "Requirement already satisfied: packaging>=20.0 in c:\\users\\user\\appdata\\local\\programs\\python\\python313\\lib\\site-packages (from matplotlib) (25.0)\n",
      "Requirement already satisfied: pillow>=8 in c:\\users\\user\\appdata\\local\\programs\\python\\python313\\lib\\site-packages (from matplotlib) (11.3.0)\n",
      "Requirement already satisfied: pyparsing>=2.3.1 in c:\\users\\user\\appdata\\local\\programs\\python\\python313\\lib\\site-packages (from matplotlib) (3.2.3)\n",
      "Requirement already satisfied: python-dateutil>=2.7 in c:\\users\\user\\appdata\\local\\programs\\python\\python313\\lib\\site-packages (from matplotlib) (2.9.0.post0)\n",
      "Requirement already satisfied: six>=1.5 in c:\\users\\user\\appdata\\local\\programs\\python\\python313\\lib\\site-packages (from python-dateutil>=2.7->matplotlib) (1.17.0)\n",
      "Note: you may need to restart the kernel to use updated packages.\n"
     ]
    },
    {
     "name": "stderr",
     "output_type": "stream",
     "text": [
      "Matplotlib is building the font cache; this may take a moment.\n"
     ]
    }
   ],
   "source": [
    "%pip install matplotlib\n",
    "import matplotlib.pyplot as plt"
   ]
  },
  {
   "cell_type": "code",
   "execution_count": 5,
   "id": "3f04d479",
   "metadata": {},
   "outputs": [],
   "source": [
    "x = [0,2,4,6,8]\n",
    "y = [0,4,16,36,64]"
   ]
  },
  {
   "cell_type": "code",
   "execution_count": 11,
   "id": "542fb8ce",
   "metadata": {},
   "outputs": [
    {
     "data": {
      "image/png": "[encoded data removed]",
      "text/plain": [
       "<Figure size 640x480 with 1 Axes>"
      ]
     },
     "metadata": {},
     "output_type": "display_data"
    }
   ],
   "source": [
    "fig, ax = plt.subplots()\n",
    "ax.plot(x,y,marker='x',label=\"Data Points\")\n",
    "ax.set_title(\"Basic Componenents of Matplotlib\")\n",
    "ax.set_xlabel(\"x-axis\")\n",
    "ax.set_ylabel(\"y-axis\")\n",
    "ax.legend()\n",
    "plt.show()"
   ]
  },
  {
   "cell_type": "markdown",
   "id": "d141811f",
   "metadata": {},
   "source": [
    "# Combined example"
   ]
  },
  {
   "cell_type": "code",
   "execution_count": 22,
   "id": "8ac35177",
   "metadata": {},
   "outputs": [
    {
     "data": {
      "image/png": "[encoded data removed]",
      "text/plain": [
       "<Figure size 640x480 with 1 Axes>"
      ]
     },
     "metadata": {},
     "output_type": "display_data"
    }
   ],
   "source": [
    "arr = np.array([60,80,70,99])\n",
    "df=pd.DataFrame({\"Numbers\":arr})\n",
    "plt.bar(df.index,df[\"Numbers\"])\n",
    "ax.set_xlabel(\"x-axis\")\n",
    "ax.set_ylabel(\"y-axis\")\n",
    "plt.show()"
   ]
  },
  {
   "cell_type": "code",
   "execution_count": null,
   "id": "8777f11d",
   "metadata": {},
   "outputs": [
    {
     "data": {
      "text/plain": [
       "[<matplotlib.lines.Line2D at 0x226f8797c50>]"
      ]
     },
     "execution_count": 19,
     "metadata": {},
     "output_type": "execute_result"
    },
    {
     "data": {
      "image/png": "[encoded data removed]",
      "text/plain": [
       "<Figure size 640x480 with 1 Axes>"
      ]
     },
     "metadata": {},
     "output_type": "display_data"
    }
   ],
   "source": [
    "import matplotlib as mpl\n",
    "\n",
    "x = np.linspace(-2 * np.pi, 2 * np.pi, 100)\n",
    "y = np.sinc(x)\n",
    "\n",
    "fig, ax = plt.subplots()\n",
    "ax.plot(x, y)"
   ]
  },
  {
   "cell_type": "markdown",
   "id": "e856ac42",
   "metadata": {},
   "source": [
    "# Data Cleaning"
   ]
  },
  {
   "cell_type": "code",
   "execution_count": 24,
   "id": "e787e0a9",
   "metadata": {},
   "outputs": [
    {
     "name": "stdout",
     "output_type": "stream",
     "text": [
      "Collecting kagglehub\n",
      "  Downloading kagglehub-0.3.13-py3-none-any.whl.metadata (38 kB)\n",
      "Requirement already satisfied: packaging in c:\\users\\user\\appdata\\local\\programs\\python\\python313\\lib\\site-packages (from kagglehub) (25.0)\n",
      "Collecting pyyaml (from kagglehub)\n",
      "  Downloading PyYAML-6.0.2-cp313-cp313-win_amd64.whl.metadata (2.1 kB)\n",
      "Collecting requests (from kagglehub)\n",
      "  Using cached requests-2.32.5-py3-none-any.whl.metadata (4.9 kB)\n",
      "Collecting tqdm (from kagglehub)\n",
      "  Downloading tqdm-4.67.1-py3-none-any.whl.metadata (57 kB)\n",
      "Collecting charset_normalizer<4,>=2 (from requests->kagglehub)\n",
      "  Downloading charset_normalizer-3.4.3-cp313-cp313-win_amd64.whl.metadata (37 kB)\n",
      "Collecting idna<4,>=2.5 (from requests->kagglehub)\n",
      "  Using cached idna-3.10-py3-none-any.whl.metadata (10 kB)\n",
      "Collecting urllib3<3,>=1.21.1 (from requests->kagglehub)\n",
      "  Using cached urllib3-2.5.0-py3-none-any.whl.metadata (6.5 kB)\n",
      "Collecting certifi>=2017.4.17 (from requests->kagglehub)\n",
      "  Using cached certifi-2025.8.3-py3-none-any.whl.metadata (2.4 kB)\n",
      "Requirement already satisfied: colorama in c:\\users\\user\\appdata\\roaming\\python\\python313\\site-packages (from tqdm->kagglehub) (0.4.6)\n",
      "Downloading kagglehub-0.3.13-py3-none-any.whl (68 kB)\n",
      "Downloading PyYAML-6.0.2-cp313-cp313-win_amd64.whl (156 kB)\n",
      "Using cached requests-2.32.5-py3-none-any.whl (64 kB)\n",
      "Downloading charset_normalizer-3.4.3-cp313-cp313-win_amd64.whl (107 kB)\n",
      "Using cached idna-3.10-py3-none-any.whl (70 kB)\n",
      "Using cached urllib3-2.5.0-py3-none-any.whl (129 kB)\n",
      "Using cached certifi-2025.8.3-py3-none-any.whl (161 kB)\n",
      "Downloading tqdm-4.67.1-py3-none-any.whl (78 kB)\n",
      "Installing collected packages: urllib3, tqdm, pyyaml, idna, charset_normalizer, certifi, requests, kagglehub\n",
      "\n",
      "   ---------------------------------------- 0/8 [urllib3]\n",
      "   ---------------------------------------- 0/8 [urllib3]\n",
      "   ---------------------------------------- 0/8 [urllib3]\n",
      "   ---------------------------------------- 0/8 [urllib3]\n",
      "   ---------------------------------------- 0/8 [urllib3]\n",
      "   ---------------------------------------- 0/8 [urllib3]\n",
      "   ----- ---------------------------------- 1/8 [tqdm]\n",
      "   ----- ---------------------------------- 1/8 [tqdm]\n",
      "   ----- ---------------------------------- 1/8 [tqdm]\n",
      "   ----- ---------------------------------- 1/8 [tqdm]\n",
      "   ----- ---------------------------------- 1/8 [tqdm]\n",
      "   ----- ---------------------------------- 1/8 [tqdm]\n",
      "   ----- ---------------------------------- 1/8 [tqdm]\n",
      "   ---------- ----------------------------- 2/8 [pyyaml]\n",
      "   ---------- ----------------------------- 2/8 [pyyaml]\n",
      "   ---------- ----------------------------- 2/8 [pyyaml]\n",
      "   --------------- ------------------------ 3/8 [idna]\n",
      "   --------------- ------------------------ 3/8 [idna]\n",
      "   -------------------- ------------------- 4/8 [charset_normalizer]\n",
      "   -------------------- ------------------- 4/8 [charset_normalizer]\n",
      "   -------------------- ------------------- 4/8 [charset_normalizer]\n",
      "   ------------------------- -------------- 5/8 [certifi]\n",
      "   ------------------------------ --------- 6/8 [requests]\n",
      "   ------------------------------ --------- 6/8 [requests]\n",
      "   ------------------------------ --------- 6/8 [requests]\n",
      "   ----------------------------------- ---- 7/8 [kagglehub]\n",
      "   ----------------------------------- ---- 7/8 [kagglehub]\n",
      "   ----------------------------------- ---- 7/8 [kagglehub]\n",
      "   ----------------------------------- ---- 7/8 [kagglehub]\n",
      "   ----------------------------------- ---- 7/8 [kagglehub]\n",
      "   ----------------------------------- ---- 7/8 [kagglehub]\n",
      "   ---------------------------------------- 8/8 [kagglehub]\n",
      "\n",
      "Successfully installed certifi-2025.8.3 charset_normalizer-3.4.3 idna-3.10 kagglehub-0.3.13 pyyaml-6.0.2 requests-2.32.5 tqdm-4.67.1 urllib3-2.5.0\n",
      "Note: you may need to restart the kernel to use updated packages.\n"
     ]
    },
    {
     "name": "stderr",
     "output_type": "stream",
     "text": [
      "c:\\Users\\user\\AppData\\Local\\Programs\\Python\\Python313\\Lib\\site-packages\\tqdm\\auto.py:21: TqdmWarning: IProgress not found. Please update jupyter and ipywidgets. See https://ipywidgets.readthedocs.io/en/stable/user_install.html\n",
      "  from .autonotebook import tqdm as notebook_tqdm\n"
     ]
    },
    {
     "name": "stdout",
     "output_type": "stream",
     "text": [
      "Downloading from https://www.kaggle.com/api/v1/datasets/download/raziehshojaei/iris-dataset-with-numeric-labels-and-scaled-features?dataset_version_number=1...\n"
     ]
    },
    {
     "name": "stderr",
     "output_type": "stream",
     "text": [
      "100%|██████████| 3.72k/3.72k [00:00<00:00, 1.88MB/s]"
     ]
    },
    {
     "name": "stdout",
     "output_type": "stream",
     "text": [
      "Extracting files...\n",
      "Path to dataset files: C:\\Users\\user\\.cache\\kagglehub\\datasets\\raziehshojaei\\iris-dataset-with-numeric-labels-and-scaled-features\\versions\\1\n"
     ]
    },
    {
     "name": "stderr",
     "output_type": "stream",
     "text": [
      "\n"
     ]
    }
   ],
   "source": [
    "%pip install kagglehub\n",
    "import kagglehub\n",
    "\n",
    "# Download latest version\n",
    "path = kagglehub.dataset_download(\"raziehshojaei/iris-dataset-with-numeric-labels-and-scaled-features\")\n",
    "\n",
    "print(\"Path to dataset files:\", path)"
   ]
  },
  {
   "cell_type": "code",
   "execution_count": null,
   "id": "d0356403",
   "metadata": {},
   "outputs": [],
   "source": [
    "di"
   ]
  }
 ],
 "metadata": {
  "kernelspec": {
   "display_name": "Python 3",
   "language": "python",
   "name": "python3"
  },
  "language_info": {
   "codemirror_mode": {
    "name": "ipython",
    "version": 3
   },
   "file_extension": ".py",
   "mimetype": "text/x-python",
   "name": "python",
   "nbconvert_exporter": "python",
   "pygments_lexer": "ipython3",
   "version": "3.13.7"
  }
 },
 "nbformat": 4,
 "nbformat_minor": 5
}
