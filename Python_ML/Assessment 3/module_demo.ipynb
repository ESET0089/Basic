{
 "cells": [
  {
   "cell_type": "markdown",
   "id": "8be0d1e6",
   "metadata": {},
   "source": [
    "# Calculator"
   ]
  },
  {
   "cell_type": "markdown",
   "id": "f6cd4bc7",
   "metadata": {},
   "source": [
    "### Import the calc module and use the respective function"
   ]
  },
  {
   "cell_type": "code",
   "execution_count": 6,
   "id": "4da53f47",
   "metadata": {},
   "outputs": [],
   "source": [
    "import calc"
   ]
  },
  {
   "cell_type": "code",
   "execution_count": 8,
   "id": "8d30eaf7",
   "metadata": {},
   "outputs": [
    {
     "name": "stdout",
     "output_type": "stream",
     "text": [
      "6\n",
      "0.6666666666666666\n",
      "5\n",
      "-1\n"
     ]
    }
   ],
   "source": [
    "print(multiply(2,3))\n",
    "print(divide(2,3))\n",
    "print(add(2,3))\n",
    "print(sub(2,3))"
   ]
  },
  {
   "cell_type": "markdown",
   "id": "9ea29062",
   "metadata": {},
   "source": []
  }
 ],
 "metadata": {
  "kernelspec": {
   "display_name": "Python 3",
   "language": "python",
   "name": "python3"
  },
  "language_info": {
   "codemirror_mode": {
    "name": "ipython",
    "version": 3
   },
   "file_extension": ".py",
   "mimetype": "text/x-python",
   "name": "python",
   "nbconvert_exporter": "python",
   "pygments_lexer": "ipython3",
   "version": "3.13.7"
  }
 },
 "nbformat": 4,
 "nbformat_minor": 5
}
